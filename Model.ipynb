{
 "cells": [
  {
   "cell_type": "code",
   "execution_count": null,
   "metadata": {},
   "outputs": [],
   "source": [
    "import pandas as pd\n",
    "import numpy as np\n",
    "import seaborn as sns\n",
    "from sklearn import preprocessing\n",
    "from sklearn import metrics\n",
    "from sklearn.metrics import r2_score\n",
    "import warnings\n",
    "import pickle \n",
    "import matplotlib.pyplot as plt\n",
    "%matplotlib inline"
   ]
  },
  {
   "cell_type": "code",
   "execution_count": null,
   "metadata": {},
   "outputs": [],
   "source": [
    "df = pd.read_csv(\"HR_comma_sep.csv\")"
   ]
  },
  {
   "cell_type": "code",
   "execution_count": null,
   "metadata": {},
   "outputs": [],
   "source": [
    "df1 = df.drop([ 'last_evaluation', 'Department', 'promotion_last_5years'],axis='columns')"
   ]
  },
  {
   "cell_type": "code",
   "execution_count": null,
   "metadata": {},
   "outputs": [],
   "source": [
    "n_sal = preprocessing.LabelEncoder()\n",
    "df1['salary'] = n_sal.fit_transform(df1['salary']) \n"
   ]
  },
  {
   "cell_type": "code",
   "execution_count": null,
   "metadata": {},
   "outputs": [],
   "source": [
    "X = df1[['satisfaction_level', 'number_project', 'average_montly_hours', 'time_spend_company', 'Work_accident', 'salary']].values\n",
    "Y = df1['left'].values"
   ]
  },
  {
   "cell_type": "code",
   "execution_count": null,
   "metadata": {},
   "outputs": [],
   "source": [
    "\n",
    "from sklearn.model_selection import train_test_split\n",
    "X_train, X_test, Y_train, Y_test = train_test_split( X, Y, test_size=0.3)\n"
   ]
  },
  {
   "cell_type": "code",
   "execution_count": null,
   "metadata": {},
   "outputs": [],
   "source": [
    "from sklearn.linear_model import LogisticRegression, LinearRegression\n",
    "from sklearn.svm import SVC\n",
    "from sklearn.neighbors import KNeighborsClassifier"
   ]
  },
  {
   "cell_type": "code",
   "execution_count": null,
   "metadata": {},
   "outputs": [],
   "source": [
    "Ks = 40\n",
    "mean_acc = np.zeros((Ks-1))\n",
    "for n in range(1,Ks):\n",
    "    #Train Model and Predict  \n",
    "    neigh = KNeighborsClassifier(n_neighbors = n).fit(X_train,Y_train)\n",
    "    yhat=neigh.predict(X_test)\n",
    "    mean_acc[n-1] = metrics.accuracy_score(Y_test, yhat)\n",
    "# print( \"The Highest accuracy was with\", mean_acc.max(), \"with k=\", mean_acc.argmax()+1) "
   ]
  },
  {
   "cell_type": "code",
   "execution_count": null,
   "metadata": {},
   "outputs": [],
   "source": [
    "m1 = LogisticRegression(max_iter = 500)\n",
    "m2 = LinearRegression()\n",
    "m3 = SVC()\n",
    "m4 = KNeighborsClassifier(n_neighbors = 1)"
   ]
  },
  {
   "cell_type": "code",
   "execution_count": null,
   "metadata": {},
   "outputs": [],
   "source": [
    "Model1 = m1.fit(X_train, Y_train)\n",
    "Model2 = m2.fit(X_train, Y_train)\n",
    "Model3 = m3.fit(X_train, Y_train)\n",
    "Model4 = m4.fit(X_train, Y_train)"
   ]
  },
  {
   "cell_type": "code",
   "execution_count": null,
   "metadata": {},
   "outputs": [],
   "source": [
    "p1 = m1.predict(X_test)\n",
    "p2 = m2.predict(X_test)\n",
    "p3 = m3.predict(X_test)\n",
    "p4 = m4.predict(X_test)\n",
    "\n",
    "# print(\"Accuracy of Logistic Regression :\", metrics.accuracy_score(Y_test,p1))\n",
    "# print(\"Linear Regression R2-score: %.2f\" % r2_score(p2 , Y_test))\n",
    "# print(\"Accuracy of svc :\", metrics.accuracy_score(Y_test,p3))\n",
    "# print(\"Accuracy of KNN :\", metrics.accuracy_score(Y_test,p4))\n",
    "\n",
    "a1 = metrics.accuracy_score(Y_test, p1)\n",
    "a2 = r2_score(p2 , Y_test)\n",
    "a3 = metrics.accuracy_score(Y_test, p3)\n",
    "a4 = metrics.accuracy_score(Y_test, p4)\n"
   ]
  },
  {
   "cell_type": "code",
   "execution_count": null,
   "metadata": {},
   "outputs": [],
   "source": [
    "pickle.dump(Model1,open('log_model.pkl','wb'))\n",
    "pickle.dump(Model2,open('lin_model.pkl','wb'))\n",
    "pickle.dump(Model3,open('svc_model.pkl','wb'))\n",
    "pickle.dump(Model4,open('knn_model.pkl','wb'))"
   ]
  },
  {
   "cell_type": "code",
   "execution_count": null,
   "metadata": {},
   "outputs": [],
   "source": [
    "Y_test"
   ]
  },
  {
   "cell_type": "code",
   "execution_count": null,
   "metadata": {},
   "outputs": [],
   "source": [
    "# plt.scatter(p2,Y_test, color='blue')\n",
    "# plt.plot(X_train, m2.coef_*X_train + m2.intercept_, color='red') #here the regression line is plotted y= (slope*x) + intercept\n",
    "# # plt.xlabel(\"Engine size\")\n",
    "# # plt.ylabel(\"Emission\")\n",
    "# plt.show()"
   ]
  },
  {
   "cell_type": "code",
   "execution_count": null,
   "metadata": {},
   "outputs": [],
   "source": [
    "# sns.pairplot(df1,hue='left')\n",
    "# warnings.filterwarnings(\"ignore\")"
   ]
  },
  {
   "cell_type": "code",
   "execution_count": null,
   "metadata": {},
   "outputs": [],
   "source": [
    "df1.to_csv('plot.csv')"
   ]
  },
  {
   "cell_type": "code",
   "execution_count": null,
   "metadata": {},
   "outputs": [],
   "source": []
  }
 ],
 "metadata": {
  "kernelspec": {
   "display_name": "Python 3",
   "language": "python",
   "name": "python3"
  },
  "language_info": {
   "codemirror_mode": {
    "name": "ipython",
    "version": 3
   },
   "file_extension": ".py",
   "mimetype": "text/x-python",
   "name": "python",
   "nbconvert_exporter": "python",
   "pygments_lexer": "ipython3",
   "version": "3.8.3"
  }
 },
 "nbformat": 4,
 "nbformat_minor": 4
}
